{
 "cells": [
  {
   "cell_type": "code",
   "execution_count": 2,
   "metadata": {},
   "outputs": [
    {
     "name": "stdout",
     "output_type": "stream",
     "text": [
      "calling foo\n",
      "Hey queen\n"
     ]
    }
   ],
   "source": [
    "# 🧪 Exercise 1: Logging Decorator\n",
    "# ✅ What You’re Being Asked to Do:\n",
    "# Create a decorator function called log_call that will:\n",
    "\n",
    "# Print \"Calling <function name>\" before it runs the actual function.\n",
    "\n",
    "# Then run the function as normal.\n",
    "\n",
    "# 💡 Goal:\n",
    "# Learn how to create a decorator that wraps another function and adds extra behavior before/after it runs.\n",
    "\n",
    "# 🛠 Steps:\n",
    "# Write a function log_call(func)\n",
    "\n",
    "# Inside it, define a wrapper() function\n",
    "\n",
    "# Have wrapper():\n",
    "\n",
    "# print \"Calling <function name>\"\n",
    "\n",
    "# call func() and return the result\n",
    "\n",
    "# Use @log_call above another function and run it\n",
    "\n",
    "def log_call(func):\n",
    "    def wrapper():\n",
    "        print(f'calling {func.__name__}')\n",
    "        func()\n",
    "    return wrapper\n",
    "\n",
    "@log_call\n",
    "def foo():\n",
    "    print('Hey queen')\n",
    "\n",
    "foo()"
   ]
  },
  {
   "cell_type": "code",
   "execution_count": 3,
   "metadata": {},
   "outputs": [
    {
     "name": "stdout",
     "output_type": "stream",
     "text": [
      "👏\n",
      "👏\n",
      "👏\n"
     ]
    }
   ],
   "source": [
    "# Decorator with Arguments\n",
    "\n",
    "# Create a decorator @repeat(n) that repeats a function n times.\n",
    "\n",
    "# ✅ What You’re Being Asked to Do:\n",
    "# Create a decorator factory that repeats any function n times when it's called.\n",
    "\n",
    "# For example, if you decorate with @repeat(3), the function should run 3 times automatically.\n",
    "\n",
    "# 💡 Goal:\n",
    "# Understand how to write decorators that take arguments (like @repeat(3)), which means \n",
    "# you’ll be writing a function that returns a decorator.\n",
    "\n",
    "# 🛠 Steps:\n",
    "# Write a repeat(n) function that returns a decorator\n",
    "\n",
    "# Inside the returned decorator, define wrapper(*args, **kwargs)\n",
    "\n",
    "# Inside the wrapper, run func(*args, **kwargs) n times\n",
    "\n",
    "# Use @repeat(3) to decorate another function\n",
    "\n",
    "def repeat(n):\n",
    "    def decorator(func):\n",
    "        def wrapper(*args, **kwargs):\n",
    "            for _ in range(n):\n",
    "                func(*args, **kwargs)\n",
    "        return wrapper\n",
    "    return decorator\n",
    "\n",
    "@repeat(3)\n",
    "def clap():\n",
    "    print(\"👏\")\n",
    "\n",
    "# Try:\n",
    "clap()"
   ]
  },
  {
   "cell_type": "code",
   "execution_count": 6,
   "metadata": {},
   "outputs": [
    {
     "name": "stdout",
     "output_type": "stream",
     "text": [
      "0\n",
      "1\n",
      "2\n",
      "3\n",
      "4\n",
      "5\n",
      "6\n",
      "7\n"
     ]
    },
    {
     "data": {
      "text/plain": [
       "0.0004909038543701172"
      ]
     },
     "execution_count": 6,
     "metadata": {},
     "output_type": "execute_result"
    }
   ],
   "source": [
    "# 🧪 Exercise 3: Timing Decorator\n",
    "# ✅ What You’re Being Asked to Do:\n",
    "# Create a decorator called timer that:\n",
    "\n",
    "# Measures and prints how long a function takes to execute.\n",
    "\n",
    "# 💡 Goal:\n",
    "# Learn how decorators can be used to monitor performance.\n",
    "\n",
    "# 🛠 Steps:\n",
    "# Import time\n",
    "\n",
    "# In the wrapper(), record time.time() before and after calling the function\n",
    "\n",
    "# Subtract the times and print the duration\n",
    "\n",
    "# Use @timer on a function like slow_function() that uses time.sleep()\n",
    "\n",
    "import time\n",
    "\n",
    "def mydecorator(f):\n",
    "    def wrapper(*args, **kwargs):\n",
    "        start = time.time()\n",
    "        f(*args, **kwargs)\n",
    "        end=time.time()\n",
    "        recorded = end - start\n",
    "        return recorded\n",
    "    return wrapper\n",
    "\n",
    "@mydecorator\n",
    "def foo(n):\n",
    "    for i in range(n):\n",
    "        print(i)\n",
    "\n",
    "foo(8)\n"
   ]
  },
  {
   "cell_type": "code",
   "execution_count": 12,
   "metadata": {},
   "outputs": [
    {
     "name": "stdout",
     "output_type": "stream",
     "text": [
      "5\n",
      "4\n",
      "3\n",
      "2\n",
      "1\n",
      "0\n"
     ]
    }
   ],
   "source": [
    "# 🧪 Exercise 4: Countdown Generator\n",
    "# 🎯 Task:\n",
    "# Create a generator countdown(n) that yields numbers from n to 0.\n",
    "\n",
    "def countdown(n):\n",
    "    for i in reversed(range(0,n+1)):\n",
    "        yield i\n",
    "\n",
    "a = countdown(5)\n",
    "\n",
    "for num in a:\n",
    "    print(num)"
   ]
  },
  {
   "cell_type": "code",
   "execution_count": 13,
   "metadata": {},
   "outputs": [
    {
     "name": "stdout",
     "output_type": "stream",
     "text": [
      "0\n",
      "1\n",
      "1\n",
      "2\n",
      "3\n",
      "5\n",
      "8\n",
      "13\n"
     ]
    }
   ],
   "source": [
    "# 🧪 Exercise 5: Fibonacci Generator\n",
    "# 🎯 Task:\n",
    "# Write a generator that yields the Fibonacci sequence up to n terms.\n",
    "\n",
    "def fibonacci(n):\n",
    "    a, b = 0,1\n",
    "    for _ in range(n):\n",
    "        yield a\n",
    "        a, b = b, a+b\n",
    "\n",
    "prufa = fibonacci(8)\n",
    "\n",
    "for i in prufa:\n",
    "    print(i)"
   ]
  },
  {
   "cell_type": "code",
   "execution_count": 15,
   "metadata": {},
   "outputs": [
    {
     "name": "stdout",
     "output_type": "stream",
     "text": [
      "Ég heiti Kata\n",
      "Hann heitir ekki Kata\n",
      "Hallo\n"
     ]
    }
   ],
   "source": [
    "# 🧪 Exercise 6: File Line Generator\n",
    "# 🎯 Task:\n",
    "# Write a generator that yields one line at a time from a file.\n",
    "\n",
    "def file_gen(filename):\n",
    "    with open(filename) as f:\n",
    "        for line in f:\n",
    "            yield line.strip()\n",
    "\n",
    "prufa = file_gen('/Users/katrinarnadottir/Documents/Homeworks/practice/argparse/sampletext.txt')\n",
    "\n",
    "for i in prufa:\n",
    "    print(i)\n"
   ]
  }
 ],
 "metadata": {
  "kernelspec": {
   "display_name": "cpii",
   "language": "python",
   "name": "python3"
  },
  "language_info": {
   "codemirror_mode": {
    "name": "ipython",
    "version": 3
   },
   "file_extension": ".py",
   "mimetype": "text/x-python",
   "name": "python",
   "nbconvert_exporter": "python",
   "pygments_lexer": "ipython3",
   "version": "3.10.16"
  }
 },
 "nbformat": 4,
 "nbformat_minor": 2
}
