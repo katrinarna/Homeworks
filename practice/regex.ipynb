{
 "cells": [
  {
   "cell_type": "code",
   "execution_count": 2,
   "metadata": {},
   "outputs": [],
   "source": [
    "import re"
   ]
  },
  {
   "cell_type": "code",
   "execution_count": 4,
   "metadata": {},
   "outputs": [
    {
     "name": "stdout",
     "output_type": "stream",
     "text": [
      "['+354 1234567']\n"
     ]
    }
   ],
   "source": [
    "# 🧪 Exercise 1: Match Phone Numbers\n",
    "# 🎯 Match any of the following:\n",
    "\n",
    "# +34 612345678\n",
    "# +1 5555555555\n",
    "# +354 1234567\n",
    "\n",
    "# ✅ Pattern to build:\n",
    "\n",
    "# Starts with + and 1 to 3 digits\n",
    "\n",
    "# Space\n",
    "\n",
    "# 7 to 10 digits\n",
    "\n",
    "pattern = r'\\+\\d{1,3}\\s\\d{7,10}'\n",
    "text = 'Hello +354 1234567 bye'\n",
    "matches = re.findall(pattern, text)\n",
    "print(matches)"
   ]
  },
  {
   "cell_type": "code",
   "execution_count": 10,
   "metadata": {},
   "outputs": [
    {
     "name": "stdout",
     "output_type": "stream",
     "text": [
      "['katrin@ie.edu', 'armando123@gmail.com']\n"
     ]
    }
   ],
   "source": [
    "# 🧪 Exercise 2: Extract All Emails\n",
    "# 🎯 From a block of text, extract all emails like:\n",
    "\n",
    "# katrin@ie.edu\n",
    "# armando123@gmail.com\n",
    "\n",
    "# 🧠 What You Should Do:\n",
    "# Match one or more letters/numbers\n",
    "\n",
    "# Then @\n",
    "\n",
    "# Then domain like gmail.com\n",
    "\n",
    "pattern = r'\\b[\\w.-]+@[\\w.-]+\\.\\w+\\b'\n",
    "text = \"Contact katrin@ie.edu and armando123@gmail.com please.\"\n",
    "\n",
    "matches = re.findall(pattern, text)\n",
    "\n",
    "print(matches)\n"
   ]
  },
  {
   "cell_type": "code",
   "execution_count": 15,
   "metadata": {},
   "outputs": [
    {
     "name": "stdout",
     "output_type": "stream",
     "text": [
      "['Katrin', 'Armando', 'Segovia']\n"
     ]
    }
   ],
   "source": [
    "# 🧪 Exercise 3: Only Match Words Starting with Capital Letters\n",
    "# 🎯 Match all capitalized words:\n",
    "# From: \"Katrín and Armando went to Segovia\"\n",
    "\n",
    "# Should extract: [\"Katrín\", \"Armando\", \"Segovia\"]\n",
    "\n",
    "pattern = r'\\b[A-Z][a-z]+\\b'\n",
    "text = 'Katrin and Armando went to Segovia'\n",
    "matches = re.findall(pattern,text)\n",
    "print(matches)"
   ]
  },
  {
   "cell_type": "code",
   "execution_count": 16,
   "metadata": {},
   "outputs": [
    {
     "name": "stdout",
     "output_type": "stream",
     "text": [
      "['21/05/2025', '01-01-2024']\n"
     ]
    }
   ],
   "source": [
    "# 🧪 Exercise 4: Find Dates in Format DD/MM/YYYY or DD-MM-YYYY\n",
    "# From:\n",
    "\n",
    "# Today is 21/05/2025, but the event was on 01-01-2024.\n",
    "# 🧠 What You Should Do:\n",
    "# Match 2 digits\n",
    "# Then / or -\n",
    "# Then 2 digits\n",
    "# Then / or -\n",
    "# Then 4 digits\n",
    "\n",
    "pattern = r'\\b\\d{2}[/|-]\\d{2}[/|-]\\d{4}'\n",
    "text = 'Today is 21/05/2025, but the event was on 01-01-2024.'\n",
    "matches = re.findall(pattern, text)\n",
    "print(matches)"
   ]
  },
  {
   "cell_type": "code",
   "execution_count": 17,
   "metadata": {},
   "outputs": [
    {
     "name": "stdout",
     "output_type": "stream",
     "text": [
      "I am very tired\n"
     ]
    }
   ],
   "source": [
    "# 🧪 Exercise 5: Replace Repeated Words\n",
    "# From:\n",
    "\n",
    "# \"I am am very very tired tired\"\n",
    "\n",
    "# Replace with:\n",
    "\n",
    "# \"I am very tired\"\n",
    "\n",
    "text = \"I am am very very tired tired\"\n",
    "pattern = r\"\\b(\\w+)\\s+\\1\\b\"\n",
    "\n",
    "cleaned = re.sub(pattern, r\"\\1\", text)\n",
    "print(cleaned)\n"
   ]
  }
 ],
 "metadata": {
  "kernelspec": {
   "display_name": "cpii",
   "language": "python",
   "name": "python3"
  },
  "language_info": {
   "codemirror_mode": {
    "name": "ipython",
    "version": 3
   },
   "file_extension": ".py",
   "mimetype": "text/x-python",
   "name": "python",
   "nbconvert_exporter": "python",
   "pygments_lexer": "ipython3",
   "version": "3.10.16"
  }
 },
 "nbformat": 4,
 "nbformat_minor": 2
}
