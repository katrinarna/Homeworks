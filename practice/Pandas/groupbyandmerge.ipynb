{
 "cells": [
  {
   "cell_type": "code",
   "execution_count": 4,
   "metadata": {},
   "outputs": [
    {
     "name": "stdout",
     "output_type": "stream",
     "text": [
      "Students DataFrame:\n",
      "   student_id     name\n",
      "0           1    Alice\n",
      "1           2      Bob\n",
      "2           3  Charlie\n",
      "\n",
      "\n",
      "\n",
      "\n",
      "Grades DataFrame:\n",
      "   student_id grade\n",
      "0           1     A\n",
      "1           2     B\n",
      "2           4     C\n",
      "\n",
      "\n",
      "\n",
      "\n",
      "   student_id   name grade\n",
      "0           1  Alice     A\n",
      "1           2    Bob     B\n"
     ]
    }
   ],
   "source": [
    "import pandas as pd\n",
    "\n",
    "# Left DataFrame\n",
    "students = pd.DataFrame({\n",
    "    'student_id': [1, 2, 3],\n",
    "    'name': ['Alice', 'Bob', 'Charlie']\n",
    "})\n",
    "\n",
    "# Right DataFrame\n",
    "grades = pd.DataFrame({\n",
    "    'student_id': [1, 2, 4],\n",
    "    'grade': ['A', 'B', 'C']\n",
    "})\n",
    "print(\"Students DataFrame:\")\n",
    "print(students)\n",
    "print(\"\\n\")\n",
    "print(\"\\n\")\n",
    "print(\"Grades DataFrame:\")\n",
    "print(grades)\n",
    "print(\"\\n\")\n",
    "print(\"\\n\")\n",
    "\n",
    "# Merge on student_id\n",
    "merged = pd.merge(students, grades, on='student_id', how='inner')\n",
    "print(merged)"
   ]
  },
  {
   "cell_type": "code",
   "execution_count": 8,
   "metadata": {},
   "outputs": [
    {
     "name": "stdout",
     "output_type": "stream",
     "text": [
      "Left DataFrame:\n",
      "   ID  Color\n",
      "0   1    Red\n",
      "1   2  Green\n",
      "2   3   Blue\n",
      "\n",
      "\n",
      "\n",
      "\n",
      "Right DataFrame:\n",
      "   ID     Shape\n",
      "0   1    Circle\n",
      "1   3    Square\n",
      "2   4  Triangle\n",
      "\n",
      "\n",
      "\n",
      "\n",
      "   ID Color   Shape\n",
      "0   1   Red  Circle\n",
      "1   3  Blue  Square\n"
     ]
    }
   ],
   "source": [
    "left = pd.DataFrame({'ID': [1, 2, 3], 'Color': ['Red', 'Green', 'Blue']})\n",
    "right = pd.DataFrame({'ID': [1, 3, 4], 'Shape': ['Circle', 'Square', 'Triangle']})\n",
    "\n",
    "# Merge these with an inner join on 'ID'\n",
    "merged_inner = pd.merge(left, right, on='ID', how='inner')\n",
    "\n",
    "print(\"Left DataFrame:\")\n",
    "print(left)\n",
    "print(\"\\n\")\n",
    "print(\"\\n\")\n",
    "print(\"Right DataFrame:\")\n",
    "print(right)\n",
    "print(\"\\n\")\n",
    "print(\"\\n\")\n",
    "\n",
    "print(merged_inner)"
   ]
  },
  {
   "cell_type": "code",
   "execution_count": 11,
   "metadata": {},
   "outputs": [
    {
     "name": "stdout",
     "output_type": "stream",
     "text": [
      "Employees DataFrame:\n",
      "   emp_id   name\n",
      "0     101   Anna\n",
      "1     102    Ben\n",
      "2     103  Chris\n",
      "\n",
      "\n",
      "\n",
      "\n",
      "Salaries DataFrame:\n",
      "   emp_id  salary\n",
      "0     102   50000\n",
      "1     103   60000\n",
      "\n",
      "\n",
      "\n",
      "\n",
      "   emp_id   name   salary\n",
      "0     101   Anna      NaN\n",
      "1     102    Ben  50000.0\n",
      "2     103  Chris  60000.0\n"
     ]
    }
   ],
   "source": [
    "employees = pd.DataFrame({'emp_id': [101, 102, 103], 'name': ['Anna', 'Ben', 'Chris']})\n",
    "salaries = pd.DataFrame({'emp_id': [102, 103], 'salary': [50000, 60000]})\n",
    "\n",
    "# Get all employees with their salary if available\n",
    "print(\"Employees DataFrame:\")\n",
    "print(employees)\n",
    "print(\"\\n\")\n",
    "print(\"\\n\")\n",
    "print(\"Salaries DataFrame:\")\n",
    "print(salaries)\n",
    "print(\"\\n\")\n",
    "print(\"\\n\")\n",
    "merged_employees = pd.merge(employees, salaries, how=\"left\")\n",
    "print(merged_employees)"
   ]
  },
  {
   "cell_type": "code",
   "execution_count": 12,
   "metadata": {},
   "outputs": [
    {
     "name": "stdout",
     "output_type": "stream",
     "text": [
      "DataFrame A:\n",
      "  key   A\n",
      "0  K0  A0\n",
      "1  K1  A1\n",
      "2  K2  A2\n",
      "\n",
      "\n",
      "\n",
      "\n",
      "DataFrame B:\n",
      "  key   B\n",
      "0  K1  B1\n",
      "1  K2  B2\n",
      "2  K3  B3\n",
      "\n",
      "\n",
      "\n",
      "\n",
      "  key    A    B\n",
      "0  K0   A0  NaN\n",
      "1  K1   A1   B1\n",
      "2  K2   A2   B2\n",
      "3  K3  NaN   B3\n"
     ]
    }
   ],
   "source": [
    "a = pd.DataFrame({'key': ['K0', 'K1', 'K2'], 'A': ['A0', 'A1', 'A2']})\n",
    "b = pd.DataFrame({'key': ['K1', 'K2', 'K3'], 'B': ['B1', 'B2', 'B3']})\n",
    "\n",
    "# Get all records from both\n",
    "merged_outer = pd.merge(a, b, how='outer')\n",
    "print(\"DataFrame A:\")\n",
    "print(a)\n",
    "print(\"\\n\")\n",
    "print(\"\\n\")\n",
    "print(\"DataFrame B:\")\n",
    "print(b)\n",
    "print(\"\\n\")\n",
    "print(\"\\n\")\n",
    "print(merged_outer)"
   ]
  },
  {
   "cell_type": "code",
   "execution_count": 13,
   "metadata": {},
   "outputs": [],
   "source": [
    "#GROUP BY\n",
    "#Basic syntax:\n",
    "#df.groupby('column_to_group')['column_to_aggregate'].agg('function')"
   ]
  },
  {
   "cell_type": "code",
   "execution_count": 14,
   "metadata": {},
   "outputs": [
    {
     "name": "stdout",
     "output_type": "stream",
     "text": [
      "        city  sales\n",
      "0     Madrid    100\n",
      "1     Madrid    150\n",
      "2  Barcelona    200\n",
      "3  Barcelona    130\n",
      "4    Seville    170\n",
      "\n",
      "\n",
      "\n",
      "\n",
      "city\n",
      "Barcelona    330\n",
      "Madrid       250\n",
      "Seville      170\n",
      "Name: sales, dtype: int64\n"
     ]
    }
   ],
   "source": [
    "data = pd.DataFrame({\n",
    "    'city': ['Madrid', 'Madrid', 'Barcelona', 'Barcelona', 'Seville'],\n",
    "    'sales': [100, 150, 200, 130, 170]\n",
    "})\n",
    "\n",
    "print(data)\n",
    "print(\"\\n\")\n",
    "print(\"\\n\")\n",
    "\n",
    "grouped = data.groupby('city')['sales'].sum()\n",
    "print(grouped)\n"
   ]
  },
  {
   "cell_type": "code",
   "execution_count": 18,
   "metadata": {},
   "outputs": [
    {
     "name": "stdout",
     "output_type": "stream",
     "text": [
      "   student  subject  score\n",
      "0    Alice     Math     90\n",
      "1      Bob     Math     85\n",
      "2  Charlie     Math     70\n",
      "3    Alice  History     95\n",
      "4      Bob  History     80\n",
      "\n",
      "\n",
      "\n",
      "\n",
      "subject\n",
      "History    87.500000\n",
      "Math       81.666667\n",
      "Name: score, dtype: float64\n"
     ]
    }
   ],
   "source": [
    "grades = pd.DataFrame({\n",
    "    'student': ['Alice', 'Bob', 'Charlie', 'Alice', 'Bob'],\n",
    "    'subject': ['Math', 'Math', 'Math', 'History', 'History'],\n",
    "    'score': [90, 85, 70, 95, 80]\n",
    "})\n",
    "\n",
    "# Group by subject and find the average score\n",
    "print(grades)\n",
    "print('\\n')\n",
    "print('\\n')\n",
    "grouped=grades.groupby('subject')['score'].mean()\n",
    "print(grouped)"
   ]
  },
  {
   "cell_type": "code",
   "execution_count": 20,
   "metadata": {},
   "outputs": [
    {
     "name": "stdout",
     "output_type": "stream",
     "text": [
      "  product  quantity\n",
      "0   apple         1\n",
      "1  banana         2\n",
      "2   apple         3\n",
      "3   apple         2\n",
      "4  banana         1\n",
      "\n",
      "\n",
      "product\n",
      "apple     6\n",
      "banana    3\n",
      "Name: quantity, dtype: int64\n"
     ]
    }
   ],
   "source": [
    "orders = pd.DataFrame({\n",
    "    'product': ['apple', 'banana', 'apple', 'apple', 'banana'],\n",
    "    'quantity': [1, 2, 3, 2, 1]\n",
    "})\n",
    "\n",
    "# Group by product and get total quantity sold\n",
    "print(orders)\n",
    "print('\\n')\n",
    "grouped=orders.groupby('product')['quantity'].sum()\n",
    "print(grouped)"
   ]
  },
  {
   "cell_type": "code",
   "execution_count": 21,
   "metadata": {},
   "outputs": [
    {
     "name": "stdout",
     "output_type": "stream",
     "text": [
      "  store month  revenue\n",
      "0     A   Jan      100\n",
      "1     A   Feb      150\n",
      "2     B   Jan      200\n",
      "3     B   Feb      130\n",
      "4     A   Jan       80\n",
      "\n",
      "\n",
      "store  month\n",
      "A      Feb      150\n",
      "       Jan      180\n",
      "B      Feb      130\n",
      "       Jan      200\n",
      "Name: revenue, dtype: int64\n"
     ]
    }
   ],
   "source": [
    "sales = pd.DataFrame({\n",
    "    'store': ['A', 'A', 'B', 'B', 'A'],\n",
    "    'month': ['Jan', 'Feb', 'Jan', 'Feb', 'Jan'],\n",
    "    'revenue': [100, 150, 200, 130, 80]\n",
    "})\n",
    "\n",
    "print(sales)\n",
    "print('\\n')\n",
    "# Group by store and month to see monthly revenue per store\n",
    "grouped = sales.groupby(['store', 'month'])['revenue'].sum()\n",
    "print(grouped)"
   ]
  },
  {
   "cell_type": "code",
   "execution_count": 22,
   "metadata": {},
   "outputs": [
    {
     "name": "stdout",
     "output_type": "stream",
     "text": [
      "              mean  max  count\n",
      "subject                       \n",
      "History  87.500000   95      2\n",
      "Math     81.666667   90      3\n"
     ]
    }
   ],
   "source": [
    "multiplegrouped= grades.groupby('subject')['score'].agg(['mean', 'max', 'count'])\n",
    "print(multiplegrouped)"
   ]
  },
  {
   "cell_type": "code",
   "execution_count": 27,
   "metadata": {},
   "outputs": [
    {
     "name": "stdout",
     "output_type": "stream",
     "text": [
      "  category  value\n",
      "0        A     10\n",
      "1        A     20\n",
      "2        B     30\n",
      "3        B     40\n",
      "\n",
      "\n",
      "  category  total_value\n",
      "0        A           30\n",
      "1        B           70\n"
     ]
    }
   ],
   "source": [
    "#I wanna name the aggregated column\n",
    "df = pd.DataFrame({\n",
    "    'category': ['A', 'A', 'B', 'B'],\n",
    "    'value': [10, 20, 30, 40]\n",
    "})\n",
    "print(df)\n",
    "print('\\n')\n",
    "# Name the aggregated column \"total_value\"\n",
    "result = df.groupby('category').agg(total_value=('value', 'sum')).reset_index()\n",
    "print(result)"
   ]
  },
  {
   "cell_type": "code",
   "execution_count": 29,
   "metadata": {},
   "outputs": [
    {
     "name": "stdout",
     "output_type": "stream",
     "text": [
      "  category  total_value\n",
      "0        A           30\n",
      "1        B           70\n"
     ]
    }
   ],
   "source": [
    "#Option 2; rename after aggregation\n",
    "result = df.groupby('category')['value'].sum().reset_index()\n",
    "result = result.rename(columns={'value': 'total_value'})\n",
    "print(result)"
   ]
  },
  {
   "cell_type": "code",
   "execution_count": 30,
   "metadata": {},
   "outputs": [
    {
     "name": "stdout",
     "output_type": "stream",
     "text": [
      "  category  total_sum  average_value  count_values\n",
      "0        A         30           15.0             2\n",
      "1        B         70           35.0             2\n"
     ]
    }
   ],
   "source": [
    "#Option 3: Multiple Named Aggregations\n",
    "result = df.groupby('category').agg(\n",
    "    total_sum=('value', 'sum'),\n",
    "    average_value=('value', 'mean'),\n",
    "    count_values=('value', 'count')\n",
    ").reset_index()\n",
    "\n",
    "print(result)"
   ]
  }
 ],
 "metadata": {
  "kernelspec": {
   "display_name": "cpii",
   "language": "python",
   "name": "python3"
  },
  "language_info": {
   "codemirror_mode": {
    "name": "ipython",
    "version": 3
   },
   "file_extension": ".py",
   "mimetype": "text/x-python",
   "name": "python",
   "nbconvert_exporter": "python",
   "pygments_lexer": "ipython3",
   "version": "3.10.16"
  }
 },
 "nbformat": 4,
 "nbformat_minor": 2
}
