{
 "cells": [
  {
   "cell_type": "code",
   "execution_count": 1,
   "metadata": {},
   "outputs": [
    {
     "name": "stdout",
     "output_type": "stream",
     "text": [
      "      Name   Age              Email    Major  Grade\n",
      "0   Katrín  19.0      katrin@ie.edu     Math   95.0\n",
      "1  Armando  21.0  armando@gmail.com       CS   88.0\n",
      "2     Luna  20.0               None  Physics   91.0\n",
      "3   Katrín   NaN      katrin@ie.edu     Math   95.0\n",
      "4   Carlos  23.0      carlos@ie.edu       CS    NaN\n",
      "5     None  22.0                     Physics   87.0\n"
     ]
    }
   ],
   "source": [
    "import pandas as pd\n",
    "\n",
    "data = {\n",
    "    'Name': ['Katrín', 'Armando', 'Luna', 'Katrín', 'Carlos', None],\n",
    "    'Age': [19, 21, 20, None, 23, 22],\n",
    "    'Email': ['katrin@ie.edu', 'armando@gmail.com', None, 'katrin@ie.edu', 'carlos@ie.edu', ''],\n",
    "    'Major': ['Math', 'CS', 'Physics', 'Math', 'CS', 'Physics'],\n",
    "    'Grade': [95, 88, 91, 95, None, 87]\n",
    "}\n",
    "\n",
    "df = pd.DataFrame(data)\n",
    "print(df)"
   ]
  },
  {
   "cell_type": "code",
   "execution_count": 4,
   "metadata": {},
   "outputs": [
    {
     "name": "stdout",
     "output_type": "stream",
     "text": [
      "      Name   Age              Email    Major  Grade\n",
      "0   Katrín  19.0      katrin@ie.edu     Math   95.0\n",
      "1  Armando  21.0  armando@gmail.com       CS   88.0\n",
      "2     Luna  20.0  missing@email.com  Physics   91.0\n",
      "3   Katrín   NaN      katrin@ie.edu     Math   95.0\n",
      "4   Carlos  23.0      carlos@ie.edu       CS    NaN\n",
      "5     None  22.0  missing@email.com  Physics   87.0\n"
     ]
    }
   ],
   "source": [
    "# 🧼 1. Data Cleaning\n",
    "# 🎯 Task:\n",
    "# Drop duplicate rows\n",
    "# Replace empty strings and None in Email with \"missing@email.com\"\n",
    "df = df.drop_duplicates()\n",
    "df['Email'] = df['Email'].replace(['', None], 'missing@email.com')\n",
    "print(df)"
   ]
  },
  {
   "cell_type": "code",
   "execution_count": 5,
   "metadata": {},
   "outputs": [
    {
     "name": "stdout",
     "output_type": "stream",
     "text": [
      "      Name   Age              Email    Major  Grade\n",
      "0   Katrín  19.0      katrin@ie.edu     Math  100.0\n",
      "1  Armando  21.0  armando@gmail.com       CS   88.0\n",
      "2     Luna  20.0  missing@email.com  Physics   91.0\n",
      "3   Katrín   NaN      katrin@ie.edu     Math  100.0\n",
      "4   Carlos  23.0      carlos@ie.edu       CS    NaN\n",
      "5     None  22.0  missing@email.com  Physics   87.0\n"
     ]
    }
   ],
   "source": [
    "# 🎯 2. Use .loc[] to filter and update\n",
    "# Task:\n",
    "# Find all rows where Name == 'Katrín'\n",
    "# Set their Grade to 100\n",
    "df.loc[df['Name'] == 'Katrín', 'Grade'] = 100\n",
    "print(df)"
   ]
  },
  {
   "cell_type": "code",
   "execution_count": 7,
   "metadata": {},
   "outputs": [
    {
     "data": {
      "text/html": [
       "<div>\n",
       "<style scoped>\n",
       "    .dataframe tbody tr th:only-of-type {\n",
       "        vertical-align: middle;\n",
       "    }\n",
       "\n",
       "    .dataframe tbody tr th {\n",
       "        vertical-align: top;\n",
       "    }\n",
       "\n",
       "    .dataframe thead th {\n",
       "        text-align: right;\n",
       "    }\n",
       "</style>\n",
       "<table border=\"1\" class=\"dataframe\">\n",
       "  <thead>\n",
       "    <tr style=\"text-align: right;\">\n",
       "      <th></th>\n",
       "      <th>Name</th>\n",
       "      <th>Email</th>\n",
       "    </tr>\n",
       "  </thead>\n",
       "  <tbody>\n",
       "    <tr>\n",
       "      <th>0</th>\n",
       "      <td>Katrín</td>\n",
       "      <td>katrin@ie.edu</td>\n",
       "    </tr>\n",
       "    <tr>\n",
       "      <th>1</th>\n",
       "      <td>Armando</td>\n",
       "      <td>armando@gmail.com</td>\n",
       "    </tr>\n",
       "    <tr>\n",
       "      <th>2</th>\n",
       "      <td>Luna</td>\n",
       "      <td>missing@email.com</td>\n",
       "    </tr>\n",
       "  </tbody>\n",
       "</table>\n",
       "</div>"
      ],
      "text/plain": [
       "      Name              Email\n",
       "0   Katrín      katrin@ie.edu\n",
       "1  Armando  armando@gmail.com\n",
       "2     Luna  missing@email.com"
      ]
     },
     "execution_count": 7,
     "metadata": {},
     "output_type": "execute_result"
    }
   ],
   "source": [
    "# 🔢 3. Use .iloc[] to access rows and columns by position\n",
    "# Task:\n",
    "# Get the first three rows and only the Name and Email columns\n",
    "df.iloc[0:3, [0,2]]"
   ]
  },
  {
   "cell_type": "code",
   "execution_count": 11,
   "metadata": {},
   "outputs": [
    {
     "name": "stdout",
     "output_type": "stream",
     "text": [
      "Name     1\n",
      "Age      1\n",
      "Email    0\n",
      "Major    0\n",
      "Grade    1\n",
      "dtype: int64\n",
      "      Name   Age              Email    Major  Grade\n",
      "0   Katrín  19.0      katrin@ie.edu     Math  100.0\n",
      "1  Armando  21.0  armando@gmail.com       CS   88.0\n",
      "2     Luna  20.0  missing@email.com  Physics   91.0\n",
      "3   Katrín  21.0      katrin@ie.edu     Math  100.0\n",
      "4   Carlos  23.0      carlos@ie.edu       CS    NaN\n",
      "5     None  22.0  missing@email.com  Physics   87.0\n"
     ]
    }
   ],
   "source": [
    "# ❓ 4. Find and Fill Missing Data\n",
    "# Task:\n",
    "# Find which columns have missing values\n",
    "# Fill missing Age values with the average age\n",
    "print(df.isnull().sum())\n",
    "df['Age']=df['Age'].fillna(df['Age'].mean())\n",
    "print(df)"
   ]
  },
  {
   "cell_type": "code",
   "execution_count": 15,
   "metadata": {},
   "outputs": [
    {
     "name": "stdout",
     "output_type": "stream",
     "text": [
      "     Name  Grade\n",
      "0  Katrín  100.0\n",
      "2    Luna   91.0\n",
      "3  Katrín  100.0\n"
     ]
    }
   ],
   "source": [
    "# 🎯 5. Boolean Filtering\n",
    "# Task:\n",
    "# Find students with a Grade >= 90\n",
    "# Return only Name and Grade\n",
    "print(df[df['Grade'] >= 90][['Name', 'Grade']])"
   ]
  },
  {
   "cell_type": "code",
   "execution_count": 16,
   "metadata": {},
   "outputs": [
    {
     "name": "stdout",
     "output_type": "stream",
     "text": [
      "      Name   Age              Email    Major  Grade\n",
      "0   Katrín  19.0      katrin@ie.edu     Math  100.0\n",
      "3   Katrín  21.0      katrin@ie.edu     Math  100.0\n",
      "2     Luna  20.0  missing@email.com  Physics   91.0\n",
      "1  Armando  21.0  armando@gmail.com       CS   88.0\n",
      "5     None  22.0  missing@email.com  Physics   87.0\n",
      "4   Carlos  23.0      carlos@ie.edu       CS    NaN\n"
     ]
    }
   ],
   "source": [
    "# 🔢 6. Sorting\n",
    "# Task:\n",
    "# Sort the DataFrame by Grade descending\n",
    "df_sorted = df.sort_values(by='Grade', ascending=False)\n",
    "print(df_sorted)"
   ]
  },
  {
   "cell_type": "code",
   "execution_count": 17,
   "metadata": {},
   "outputs": [
    {
     "name": "stdout",
     "output_type": "stream",
     "text": [
      "Major\n",
      "CS          88.0\n",
      "Math       100.0\n",
      "Physics     89.0\n",
      "Name: Grade, dtype: float64\n"
     ]
    }
   ],
   "source": [
    "# 👯 7. GroupBy + Aggregation\n",
    "# Task:\n",
    "# Calculate the average Grade for each Major\n",
    "grouped = df.groupby('Major')['Grade'].mean()\n",
    "print(grouped)"
   ]
  },
  {
   "cell_type": "code",
   "execution_count": 18,
   "metadata": {},
   "outputs": [
    {
     "name": "stdout",
     "output_type": "stream",
     "text": [
      "      Name   Age              Email    Major  Grade  Passed\n",
      "0   Katrín  19.0      katrin@ie.edu     Math  100.0    True\n",
      "1  Armando  21.0  armando@gmail.com       CS   88.0   False\n",
      "2     Luna  20.0  missing@email.com  Physics   91.0    True\n",
      "3   Katrín  21.0      katrin@ie.edu     Math  100.0    True\n",
      "4   Carlos  23.0      carlos@ie.edu       CS    NaN   False\n",
      "5     None  22.0  missing@email.com  Physics   87.0   False\n"
     ]
    }
   ],
   "source": [
    "# 📈 8. Create a New Column\n",
    "# Task:\n",
    "# Add a column Passed that says True if Grade >= 90, else False\n",
    "df['Passed'] = df['Grade'] >= 90\n",
    "print(df)"
   ]
  },
  {
   "cell_type": "code",
   "execution_count": 19,
   "metadata": {},
   "outputs": [
    {
     "name": "stdout",
     "output_type": "stream",
     "text": [
      "      Name   Age              Email    Major  Grade  Passed Grade_Level\n",
      "0   Katrín  19.0      katrin@ie.edu     Math  100.0    True        High\n",
      "1  Armando  21.0  armando@gmail.com       CS   88.0   False         Mid\n",
      "2     Luna  20.0  missing@email.com  Physics   91.0    True        High\n",
      "3   Katrín  21.0      katrin@ie.edu     Math  100.0    True        High\n",
      "4   Carlos  23.0      carlos@ie.edu       CS    NaN   False         Low\n",
      "5     None  22.0  missing@email.com  Physics   87.0   False         Mid\n"
     ]
    }
   ],
   "source": [
    "# 🧪 9. Apply a Custom Function\n",
    "# Task:\n",
    "# Create a new column Grade_Level:\n",
    "\n",
    "# \"High\" if grade ≥ 90\n",
    "\n",
    "# \"Mid\" if 80–89\n",
    "\n",
    "# \"Low\" otherwise\n",
    "\n",
    "def grade_level(g):\n",
    "    if g >= 90:\n",
    "        return 'High'\n",
    "    elif 80<=g<=89:\n",
    "        return 'Mid'\n",
    "    else:\n",
    "        return 'Low'\n",
    "    \n",
    "df['Grade_Level']=df['Grade'].apply(grade_level)\n",
    "print(df)"
   ]
  },
  {
   "cell_type": "code",
   "execution_count": 20,
   "metadata": {},
   "outputs": [
    {
     "name": "stdout",
     "output_type": "stream",
     "text": [
      "      Name   Age              Email             Major  Grade  Passed  \\\n",
      "0   Katrín  19.0      katrin@ie.edu              Math  100.0    True   \n",
      "1  Armando  21.0  armando@gmail.com  Computer Science   88.0   False   \n",
      "2     Luna  20.0  missing@email.com           Physics   91.0    True   \n",
      "3   Katrín  21.0      katrin@ie.edu              Math  100.0    True   \n",
      "4   Carlos  23.0      carlos@ie.edu  Computer Science    NaN   False   \n",
      "5     None  22.0  missing@email.com           Physics   87.0   False   \n",
      "\n",
      "  Grade_Level  \n",
      "0        High  \n",
      "1         Mid  \n",
      "2        High  \n",
      "3        High  \n",
      "4         Low  \n",
      "5         Mid  \n"
     ]
    }
   ],
   "source": [
    "# 🔄 10. Replace Values\n",
    "# Task:\n",
    "# Replace \"CS\" in the Major column with \"Computer Science\"\n",
    "\n",
    "df['Major'] = df['Major'].replace('CS', 'Computer Science')\n",
    "print(df)"
   ]
  },
  {
   "cell_type": "code",
   "execution_count": null,
   "metadata": {},
   "outputs": [],
   "source": [
    "# 🧪 11. Drop Rows Based on a Condition\n",
    "# 🎯 Task:\n",
    "# Drop all rows where Grade is below 60 (you only want to keep passing students)\n",
    "\n",
    "to_drop = df[df['Grade'] < 60].index\n",
    "df = df.drop(to_drop)\n",
    "#or:\n",
    "#df = df[df['Grade'] >= 60]\n",
    "print(df)"
   ]
  },
  {
   "cell_type": "code",
   "execution_count": 30,
   "metadata": {},
   "outputs": [
    {
     "data": {
      "text/html": [
       "<div>\n",
       "<style scoped>\n",
       "    .dataframe tbody tr th:only-of-type {\n",
       "        vertical-align: middle;\n",
       "    }\n",
       "\n",
       "    .dataframe tbody tr th {\n",
       "        vertical-align: top;\n",
       "    }\n",
       "\n",
       "    .dataframe thead th {\n",
       "        text-align: right;\n",
       "    }\n",
       "</style>\n",
       "<table border=\"1\" class=\"dataframe\">\n",
       "  <thead>\n",
       "    <tr style=\"text-align: right;\">\n",
       "      <th></th>\n",
       "      <th>Name</th>\n",
       "      <th>Age</th>\n",
       "      <th>Email</th>\n",
       "      <th>Major</th>\n",
       "      <th>Grade</th>\n",
       "      <th>Passed</th>\n",
       "      <th>Grade_Level</th>\n",
       "    </tr>\n",
       "  </thead>\n",
       "  <tbody>\n",
       "    <tr>\n",
       "      <th>0</th>\n",
       "      <td>Katrín</td>\n",
       "      <td>19.0</td>\n",
       "      <td>katrin@ie.edu</td>\n",
       "      <td>Math</td>\n",
       "      <td>100.0</td>\n",
       "      <td>True</td>\n",
       "      <td>High</td>\n",
       "    </tr>\n",
       "    <tr>\n",
       "      <th>3</th>\n",
       "      <td>Katrín</td>\n",
       "      <td>21.0</td>\n",
       "      <td>katrin@ie.edu</td>\n",
       "      <td>Math</td>\n",
       "      <td>100.0</td>\n",
       "      <td>True</td>\n",
       "      <td>High</td>\n",
       "    </tr>\n",
       "  </tbody>\n",
       "</table>\n",
       "</div>"
      ],
      "text/plain": [
       "     Name   Age          Email Major  Grade  Passed Grade_Level\n",
       "0  Katrín  19.0  katrin@ie.edu  Math  100.0    True        High\n",
       "3  Katrín  21.0  katrin@ie.edu  Math  100.0    True        High"
      ]
     },
     "execution_count": 30,
     "metadata": {},
     "output_type": "execute_result"
    }
   ],
   "source": [
    "# 🧪 14. Chained Filtering\n",
    "# 🎯 Task:\n",
    "# Find all students who are in \"Math\" and have a Grade above 90\n",
    "\n",
    "df[(df['Major'] == 'Math') & (df['Grade'] > 90)]"
   ]
  },
  {
   "cell_type": "code",
   "execution_count": 34,
   "metadata": {},
   "outputs": [
    {
     "name": "stdout",
     "output_type": "stream",
     "text": [
      "      Name   Age              Email             Major  Grade  Passed  \\\n",
      "0   Katrín  19.0      katrin@ie.edu              Math  100.0    True   \n",
      "1  Armando  21.0  armando@gmail.com  Computer Science   88.0   False   \n",
      "2     Luna  20.0  missing@email.com           Physics   91.0    True   \n",
      "3   Katrín  21.0      katrin@ie.edu              Math  100.0    True   \n",
      "4   Carlos  23.0      carlos@ie.edu  Computer Science    NaN   False   \n",
      "5     None  22.0  missing@email.com           Physics   87.0   False   \n",
      "\n",
      "  Performance  \n",
      "0        High  \n",
      "1         Mid  \n",
      "2        High  \n",
      "3        High  \n",
      "4         Low  \n",
      "5         Mid  \n"
     ]
    }
   ],
   "source": [
    "# 🧪 15. Rename Columns\n",
    "# 🎯 Task:\n",
    "# Change \"Grade_Level\" to \"Performance\"\n",
    "df.rename(columns={'Grade_Level':'Performance'}, inplace = True)\n",
    "print(df)"
   ]
  },
  {
   "cell_type": "code",
   "execution_count": 36,
   "metadata": {},
   "outputs": [
    {
     "name": "stdout",
     "output_type": "stream",
     "text": [
      "                      Name   Age             Major  Grade  Passed Performance\n",
      "Email                                                                        \n",
      "katrin@ie.edu       Katrín  19.0              Math  100.0    True        High\n",
      "armando@gmail.com  Armando  21.0  Computer Science   88.0   False         Mid\n",
      "missing@email.com     Luna  20.0           Physics   91.0    True        High\n",
      "katrin@ie.edu       Katrín  21.0              Math  100.0    True        High\n",
      "carlos@ie.edu       Carlos  23.0  Computer Science    NaN   False         Low\n",
      "missing@email.com     None  22.0           Physics   87.0   False         Mid\n"
     ]
    }
   ],
   "source": [
    "# 🧪 16. Set Index\n",
    "# 🎯 Task:\n",
    "# Make the \"Email\" column the new index\n",
    "df.set_index('Email', inplace = True)\n",
    "print(df)"
   ]
  },
  {
   "cell_type": "code",
   "execution_count": 38,
   "metadata": {},
   "outputs": [
    {
     "name": "stdout",
     "output_type": "stream",
     "text": [
      "               Email     Name   Age             Major  Grade  Passed  \\\n",
      "0      katrin@ie.edu   Katrín  19.0              Math  100.0    True   \n",
      "1  armando@gmail.com  Armando  21.0  Computer Science   88.0   False   \n",
      "2  missing@email.com     Luna  20.0           Physics   91.0    True   \n",
      "3      katrin@ie.edu   Katrín  21.0              Math  100.0    True   \n",
      "4      carlos@ie.edu   Carlos  23.0  Computer Science    NaN   False   \n",
      "5  missing@email.com     None  22.0           Physics   87.0   False   \n",
      "\n",
      "  Performance  \n",
      "0        High  \n",
      "1         Mid  \n",
      "2        High  \n",
      "3        High  \n",
      "4         Low  \n",
      "5         Mid  \n"
     ]
    }
   ],
   "source": [
    "df = df.reset_index()\n",
    "print(df)"
   ]
  },
  {
   "cell_type": "code",
   "execution_count": 40,
   "metadata": {},
   "outputs": [
    {
     "name": "stdout",
     "output_type": "stream",
     "text": [
      "               Email     Name   Age             Major  Grade  Passed  \\\n",
      "0      katrin@ie.edu   Katrín  19.0              Math  100.0    True   \n",
      "1  armando@gmail.com  Armando  21.0  Computer Science   88.0   False   \n",
      "2  missing@email.com     Luna  20.0           Physics   91.0    True   \n",
      "3      katrin@ie.edu   Katrín  19.0              Math  100.0    True   \n",
      "4      carlos@ie.edu   Carlos  23.0  Computer Science    NaN   False   \n",
      "5  missing@email.com     None  22.0           Physics   87.0   False   \n",
      "\n",
      "  Performance  \n",
      "0        High  \n",
      "1         Mid  \n",
      "2        High  \n",
      "3        High  \n",
      "4         Low  \n",
      "5         Mid  \n"
     ]
    }
   ],
   "source": [
    "df.loc[3, 'Age']=19.0\n",
    "print(df)"
   ]
  },
  {
   "cell_type": "code",
   "execution_count": 44,
   "metadata": {},
   "outputs": [
    {
     "name": "stdout",
     "output_type": "stream",
     "text": [
      "0\n",
      "               Email     Name   Age             Major  Grade  Passed  \\\n",
      "0      katrin@ie.edu   Katrín  19.0              Math  100.0    True   \n",
      "1  armando@gmail.com  Armando  21.0  Computer Science   88.0   False   \n",
      "2  missing@email.com     Luna  20.0           Physics   91.0    True   \n",
      "4      carlos@ie.edu   Carlos  23.0  Computer Science    NaN   False   \n",
      "5  missing@email.com     None  22.0           Physics   87.0   False   \n",
      "\n",
      "  Performance  \n",
      "0        High  \n",
      "1         Mid  \n",
      "2        High  \n",
      "4         Low  \n",
      "5         Mid  \n"
     ]
    }
   ],
   "source": [
    "# 🧪 17. Find Duplicates\n",
    "# 🎯 Task:\n",
    "# Check if any rows are duplicates (again), and drop them\n",
    "\n",
    "duplicates = df.duplicated()\n",
    "print(duplicates.sum())\n",
    "\n",
    "df = df.drop_duplicates()\n",
    "print(df)"
   ]
  },
  {
   "cell_type": "code",
   "execution_count": 46,
   "metadata": {},
   "outputs": [
    {
     "name": "stdout",
     "output_type": "stream",
     "text": [
      "               Email     Name   Age             Major  Grade  Passed  \\\n",
      "0      katrin@ie.edu   Katrín  19.0              Math  100.0    True   \n",
      "1  armando@gmail.com  Armando  21.0  Computer Science   88.0   False   \n",
      "2  missing@email.com     Luna  20.0           Physics   91.0    True   \n",
      "4      carlos@ie.edu   Carlos  23.0  Computer Science    NaN   False   \n",
      "5  missing@email.com     None  22.0           Physics   87.0   False   \n",
      "\n",
      "  Performance    Age_Group  \n",
      "0        High         Teen  \n",
      "1         Mid  Young Adult  \n",
      "2        High  Young Adult  \n",
      "4         Low        Adult  \n",
      "5         Mid  Young Adult  \n"
     ]
    }
   ],
   "source": [
    "# 🧪 18. Binning (Creating Ranges)\n",
    "# 🎯 Task:\n",
    "# Create a column Age_Group that classifies students as:\n",
    "\n",
    "# \"Teen\" if age < 20\n",
    "\n",
    "# \"Young Adult\" if 20–22\n",
    "\n",
    "# \"Adult\" if 23+\n",
    "\n",
    "def age_bin(a):\n",
    "    if a < 20:\n",
    "        return 'Teen'\n",
    "    elif 20<=a<=22:\n",
    "        return 'Young Adult'\n",
    "    else:\n",
    "        return 'Adult'\n",
    "    \n",
    "df['Age_Group'] = df['Age'].apply(age_bin)\n",
    "\n",
    "print(df)"
   ]
  },
  {
   "cell_type": "code",
   "execution_count": 52,
   "metadata": {},
   "outputs": [
    {
     "name": "stdout",
     "output_type": "stream",
     "text": [
      "Age_Group    Major           \n",
      "Adult        Computer Science      NaN\n",
      "Teen         Math                100.0\n",
      "Young Adult  Computer Science     88.0\n",
      "             Physics              89.0\n",
      "Name: Grade, dtype: float64\n",
      "\n",
      "\n",
      "Major        Computer Science   Math  Physics\n",
      "Age_Group                                    \n",
      "Teen                      NaN  100.0      NaN\n",
      "Young Adult              88.0    NaN     89.0\n"
     ]
    }
   ],
   "source": [
    "# 🧪 19. Pivot Table\n",
    "# 🎯 Task:\n",
    "# Make a pivot table that shows average grade by Age Group and Major\n",
    "\n",
    "grouped = df.groupby(['Age_Group', 'Major'])['Grade'].mean()\n",
    "print(grouped)\n",
    "print('\\n')\n",
    "pivot = pd.pivot_table(df, values='Grade', index='Age_Group', columns='Major', aggfunc='mean')\n",
    "print(pivot)\n"
   ]
  },
  {
   "cell_type": "code",
   "execution_count": null,
   "metadata": {},
   "outputs": [],
   "source": [
    "# 🧪 20. Export to CSV\n",
    "# 🎯 Task:\n",
    "# Save your cleaned dataset to a CSV\n",
    "\n",
    "df.to_csv('pandasdata.csv', index = False)"
   ]
  }
 ],
 "metadata": {
  "kernelspec": {
   "display_name": "cpii",
   "language": "python",
   "name": "python3"
  },
  "language_info": {
   "codemirror_mode": {
    "name": "ipython",
    "version": 3
   },
   "file_extension": ".py",
   "mimetype": "text/x-python",
   "name": "python",
   "nbconvert_exporter": "python",
   "pygments_lexer": "ipython3",
   "version": "3.10.16"
  }
 },
 "nbformat": 4,
 "nbformat_minor": 2
}
