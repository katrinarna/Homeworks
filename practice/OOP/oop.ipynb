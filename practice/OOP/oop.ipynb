{
 "cells": [
  {
   "cell_type": "code",
   "execution_count": 2,
   "metadata": {},
   "outputs": [
    {
     "name": "stdout",
     "output_type": "stream",
     "text": [
      "Woof! I'm Gallí\n"
     ]
    }
   ],
   "source": [
    "#Create a Dog class with attributes name, breed, and age.\n",
    "#Add a method bark() that prints \"Woof! I’m <name>\".\n",
    "\n",
    "class Dog:\n",
    "    def __init__(self, name, breed, age):\n",
    "        self.name = name\n",
    "        self.breed = breed\n",
    "        self.age = age\n",
    "\n",
    "    def bark(self):\n",
    "        print(f\"Woof! I'm {self.name}\")\n",
    "\n",
    "galli = Dog('Gallí', 'mix', 13)\n",
    "galli.bark()"
   ]
  },
  {
   "cell_type": "code",
   "execution_count": 3,
   "metadata": {},
   "outputs": [
    {
     "data": {
      "text/plain": [
       "50.0"
      ]
     },
     "execution_count": 3,
     "metadata": {},
     "output_type": "execute_result"
    }
   ],
   "source": [
    "#Create a Student class with name and list of grades.\n",
    "#Add a method average() that returns the average grade.\n",
    "class Student:\n",
    "    def __init__(self, name, grades):\n",
    "        self.name = name\n",
    "        self.grades = grades\n",
    "\n",
    "    def average(self):\n",
    "        return sum(self.grades)/len(self.grades)\n",
    "    \n",
    "kata = Student('Kata', [90, 50, 10])\n",
    "kata.average()"
   ]
  },
  {
   "cell_type": "code",
   "execution_count": 11,
   "metadata": {},
   "outputs": [
    {
     "name": "stdout",
     "output_type": "stream",
     "text": [
      "Katrín's account: €120\n",
      "Katrín's account: €140\n",
      "Katrín's account: €90\n"
     ]
    }
   ],
   "source": [
    "#Create BankAccount with owner and balance.\n",
    "\n",
    "#Add methods:\n",
    "#deposit(amount)\n",
    "#withdraw(amount) (if enough funds)\n",
    "#__str__() to print account info\"\n",
    "\n",
    "class BankAccount:\n",
    "    def __init__(self, owner, balance=0):\n",
    "        self.owner = owner\n",
    "        self.balance = balance\n",
    "\n",
    "    def deposit(self, amount):\n",
    "        self.balance += amount\n",
    "    \n",
    "    def withdraw(self, amount):\n",
    "        if amount <= self.balance:\n",
    "            self.balance -= amount\n",
    "\n",
    "    def __str__(self):\n",
    "        return f\"{self.owner}'s account: €{self.balance}\"\n",
    "\n",
    "owner1=BankAccount('Katrín', 120)\n",
    "print(owner1)\n",
    "owner1.deposit(20)\n",
    "print(owner1)\n",
    "owner1.withdraw(50)\n",
    "print(owner1)"
   ]
  },
  {
   "cell_type": "code",
   "execution_count": 12,
   "metadata": {},
   "outputs": [
    {
     "name": "stdout",
     "output_type": "stream",
     "text": [
      "78.53981633974483 31.41592653589793\n"
     ]
    }
   ],
   "source": [
    "#Inheritance\n",
    "#Create a base class Shape with a method area() and perimeter().\n",
    "#Create subclass Circle that overrides both.\n",
    "import math\n",
    "\n",
    "class Shape:\n",
    "    def area(self):\n",
    "        raise NotImplementedError()\n",
    "\n",
    "    def perimeter(self):\n",
    "        raise NotImplementedError()\n",
    "\n",
    "class Circle(Shape):\n",
    "    def __init__(self, radius):\n",
    "        self.radius = radius\n",
    "\n",
    "    def area(self):\n",
    "        return math.pi * self.radius ** 2\n",
    "\n",
    "    def perimeter(self):\n",
    "        return 2 * math.pi * self.radius\n",
    "\n",
    "# Try:\n",
    "c = Circle(5)\n",
    "print(c.area(), c.perimeter())\n"
   ]
  },
  {
   "cell_type": "code",
   "execution_count": 13,
   "metadata": {},
   "outputs": [
    {
     "name": "stdout",
     "output_type": "stream",
     "text": [
      "2500\n"
     ]
    }
   ],
   "source": [
    "#Inventory System\n",
    "#Create a class Item with name, price, and quantity.\n",
    "#Create a class Inventory that:\n",
    "#Stores items in a list\n",
    "#Has a method total_value() that returns the total inventory value\n",
    "\n",
    "class Item:\n",
    "    def __init__(self, name, price, quantity):\n",
    "        self. name = name\n",
    "        self.price = price\n",
    "        self.quantity = quantity\n",
    "\n",
    "class Inventory:\n",
    "    def __init__(self):\n",
    "        self.items = []\n",
    "\n",
    "    def add_item(self, item):\n",
    "        self.items.append(item)\n",
    "\n",
    "    def total_value(self):\n",
    "        return sum(item.price * item.quantity for item in self.items)\n",
    "    \n",
    "inv =Inventory()\n",
    "inv.add_item(Item(\"Laptop\", 1200, 2))\n",
    "inv.add_item(Item(\"Mouse\", 25, 4))\n",
    "print(inv.total_value())      "
   ]
  }
 ],
 "metadata": {
  "kernelspec": {
   "display_name": "cpii",
   "language": "python",
   "name": "python3"
  },
  "language_info": {
   "codemirror_mode": {
    "name": "ipython",
    "version": 3
   },
   "file_extension": ".py",
   "mimetype": "text/x-python",
   "name": "python",
   "nbconvert_exporter": "python",
   "pygments_lexer": "ipython3",
   "version": "3.10.16"
  }
 },
 "nbformat": 4,
 "nbformat_minor": 2
}
