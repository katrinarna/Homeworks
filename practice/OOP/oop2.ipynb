{
 "cells": [
  {
   "cell_type": "code",
   "execution_count": 6,
   "metadata": {},
   "outputs": [
    {
     "name": "stdout",
     "output_type": "stream",
     "text": [
      "My name is Katrín\n",
      "My name is Katrín\n",
      "Katrín is studying.\n",
      "My name is Katrín\n",
      "Katrín is teaching\n"
     ]
    }
   ],
   "source": [
    "#Exercise: Inheritance with Person, Student, and Teacher\n",
    "\n",
    "#Step-by-Step Breakdown:\n",
    "# Create a Person class (the parent class):\n",
    "\n",
    "# It should store a name.\n",
    "\n",
    "# It should have a method called speak() that prints a message like \"My name is <name>\".\n",
    "\n",
    "# Create a Student class (inherits from Person):\n",
    "\n",
    "# It should have an extra method called study() that prints something like \"Katrín is studying\".\n",
    "\n",
    "# Create a Teacher class (also inherits from Person):\n",
    "\n",
    "# It should have a method called teach() that prints \"Armando is teaching\".\n",
    "\n",
    "class Person:\n",
    "    def __init__(self, name):\n",
    "        self.name = name\n",
    "\n",
    "    def speak(self):\n",
    "        print(f'My name is {self.name}')\n",
    "\n",
    "class Student(Person):\n",
    "    def study(self):\n",
    "        print(f'{self.name} is studying.')\n",
    "\n",
    "class Teacher(Person):\n",
    "    def teach(self):\n",
    "        print(f'{self.name} is teaching')\n",
    "\n",
    "kata = Person('Katrín')\n",
    "kata.speak()\n",
    "\n",
    "kata2 = Student(\"Katrín\")\n",
    "kata2.speak()\n",
    "kata2.study()\n",
    "\n",
    "kata3 = Teacher('Katrín')\n",
    "kata3.speak()\n",
    "kata3.teach()"
   ]
  },
  {
   "cell_type": "code",
   "execution_count": 11,
   "metadata": {},
   "outputs": [
    {
     "name": "stdout",
     "output_type": "stream",
     "text": [
      "Vehicle is moving\n",
      "Car is moving\n",
      "Bike is moving\n",
      "Car is moving\n",
      "Bike is moving\n",
      "Vehicle is moving\n"
     ]
    }
   ],
   "source": [
    "# POLYMORPHISM\n",
    "# Create a Vehicle class with a move() method. Subclasses Car and Bike override move().\n",
    "# You’re going to create a base class called Vehicle with a method called move(). \n",
    "# Then, you’ll create two subclasses: Car and Bike. Both of these will override the move() method \n",
    "# and give their own version of it.\n",
    "class Vehicle:\n",
    "    def move(self):\n",
    "        print(\"Vehicle is moving\")\n",
    "\n",
    "class Car(Vehicle):\n",
    "    def move(self):\n",
    "        print('Car is moving')\n",
    "\n",
    "class Bike(Vehicle):\n",
    "    def move(self):\n",
    "        print(\"Bike is moving\")\n",
    "\n",
    "# a = Vehicle()\n",
    "# a.move()\n",
    "# b = Car()\n",
    "# b.move()\n",
    "# c= Bike()\n",
    "# c.move()\n",
    "\n",
    "# Try:\n",
    "vehicles = [Car(), Bike(), Vehicle()]\n",
    "\n",
    "for v in vehicles:\n",
    "    v.move()  # Polymorphic behavior"
   ]
  },
  {
   "cell_type": "code",
   "execution_count": 13,
   "metadata": {},
   "outputs": [
    {
     "name": "stdout",
     "output_type": "stream",
     "text": [
      "Þoka: Meaowwww\n",
      "Gallí: Woof Woof\n"
     ]
    }
   ],
   "source": [
    "# ABSTRACT CLASSES\n",
    "# Create an abstract Animal class with an abstract method make_sound().\n",
    "\n",
    "# Create a base class called Animal\n",
    "\n",
    "# Make it abstract — meaning it cannot be used on its own\n",
    "\n",
    "# Give it an abstract method called make_sound()\n",
    "\n",
    "# Then, create two subclasses, like Dog and Cat, that inherit from Animal \n",
    "# and each provide their own version of make_sound().\n",
    "\n",
    "\n",
    "from abc import ABC, abstractmethod\n",
    "\n",
    "class Animal(ABC):\n",
    "    @abstractmethod\n",
    "    def make_sound(self):\n",
    "        pass\n",
    "\n",
    "class Dog(Animal):\n",
    "    def __init__(self, name):\n",
    "        self.name = name\n",
    "    \n",
    "    def make_sound(self):\n",
    "        print(f'{self.name}: Woof Woof')\n",
    "\n",
    "class Cat(Animal):\n",
    "    def __init__(self, name):\n",
    "        self.name = name\n",
    "    \n",
    "    def make_sound(self):\n",
    "        print(f'{self.name}: Meaowwww')\n",
    "\n",
    "thoka = Cat('Þoka')\n",
    "thoka.make_sound()\n",
    "\n",
    "galli = Dog('Gallí')\n",
    "galli.make_sound()"
   ]
  },
  {
   "cell_type": "code",
   "execution_count": 15,
   "metadata": {},
   "outputs": [
    {
     "name": "stdout",
     "output_type": "stream",
     "text": [
      "Playing guitar\n",
      "Playing the piano\n"
     ]
    }
   ],
   "source": [
    "# DUCK TYPING\n",
    "\n",
    "# Make a play_music() function that works with any object that has a .play() method, \n",
    "# regardless of its class.\n",
    "\n",
    "# Create a function called play_music().\n",
    "\n",
    "# Then create two different classes — like Guitar and Piano — and each one should have a .play() method.\n",
    "\n",
    "# Now, when you pass any object into play_music(), as long as that object has a .play() method, it should just work.\n",
    "\n",
    "# No inheritance needed. No checking types. Just trusting the object to behave like a duck.\n",
    "\n",
    "def play_music(instrument):\n",
    "    instrument.play()  # We don't care what class it is!\n",
    "\n",
    "class Guitar:\n",
    "    def play(self):\n",
    "        print('Playing guitar')\n",
    "\n",
    "class Piano:\n",
    "    def play(self):\n",
    "        print('Playing the piano')\n",
    "\n",
    "g = Guitar()\n",
    "p = Piano()\n",
    "\n",
    "play_music(g)  \n",
    "play_music(p) \n"
   ]
  }
 ],
 "metadata": {
  "kernelspec": {
   "display_name": "cpii",
   "language": "python",
   "name": "python3"
  },
  "language_info": {
   "codemirror_mode": {
    "name": "ipython",
    "version": 3
   },
   "file_extension": ".py",
   "mimetype": "text/x-python",
   "name": "python",
   "nbconvert_exporter": "python",
   "pygments_lexer": "ipython3",
   "version": "3.10.16"
  }
 },
 "nbformat": 4,
 "nbformat_minor": 2
}
