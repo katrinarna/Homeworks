{
 "cells": [
  {
   "cell_type": "code",
   "execution_count": 2,
   "metadata": {},
   "outputs": [
    {
     "name": "stdout",
     "output_type": "stream",
     "text": [
      "Error: Division by zero\n"
     ]
    }
   ],
   "source": [
    "# ✅ Exercise 1: Handle Division by Zero\n",
    "# 🎯 Task:\n",
    "# Write a function safe_divide(a, b) that returns a / b, but if b == 0, catch the ZeroDivisionError and return \"Cannot divide by zero!\"\n",
    "\n",
    "# 🧠 What You Should Do:\n",
    "# Use a try/except block\n",
    "\n",
    "# Catch ZeroDivisionError\n",
    "\n",
    "def safe_divide(a,b):\n",
    "    try:\n",
    "        return a/b\n",
    "    except ZeroDivisionError:\n",
    "        print('Error: Division by zero')\n",
    "        return None\n",
    "    \n",
    "safe_divide(10,2)\n",
    "safe_divide(10,0)"
   ]
  },
  {
   "cell_type": "code",
   "execution_count": 8,
   "metadata": {},
   "outputs": [
    {
     "name": "stdout",
     "output_type": "stream",
     "text": [
      "Input must be a number\n"
     ]
    }
   ],
   "source": [
    "# ✅ Exercise 2: Catch Multiple Exception Types\n",
    "# 🎯 Task:\n",
    "# Write a function that asks for user input, converts it to an int, and prints the square. Catch both:\n",
    "\n",
    "# ValueError if input is not a number\n",
    "\n",
    "# KeyboardInterrupt if the user cancels\n",
    "\n",
    "def square():\n",
    "    try:\n",
    "        n = int(input('input a number'))\n",
    "        a = n**2\n",
    "        return a\n",
    "    except ValueError:\n",
    "        print('Input must be a number')\n",
    "    except KeyboardInterrupt:\n",
    "        print('You cancelled')\n",
    "\n",
    "square()"
   ]
  },
  {
   "cell_type": "code",
   "execution_count": 13,
   "metadata": {},
   "outputs": [
    {
     "ename": "ValueError",
     "evalue": "age invalid",
     "output_type": "error",
     "traceback": [
      "\u001b[0;31m---------------------------------------------------------------------------\u001b[0m",
      "\u001b[0;31mValueError\u001b[0m                                Traceback (most recent call last)",
      "Cell \u001b[0;32mIn[13], line 10\u001b[0m\n\u001b[1;32m      7\u001b[0m         \u001b[38;5;28;01mraise\u001b[39;00m \u001b[38;5;167;01mValueError\u001b[39;00m(\u001b[38;5;124m'\u001b[39m\u001b[38;5;124mage invalid\u001b[39m\u001b[38;5;124m'\u001b[39m)\n\u001b[1;32m      8\u001b[0m     \u001b[38;5;28mprint\u001b[39m(\u001b[38;5;124m'\u001b[39m\u001b[38;5;124mage is valid\u001b[39m\u001b[38;5;124m'\u001b[39m)\n\u001b[0;32m---> 10\u001b[0m \u001b[43mvalidate\u001b[49m\u001b[43m(\u001b[49m\u001b[38;5;241;43m-\u001b[39;49m\u001b[38;5;241;43m1\u001b[39;49m\u001b[43m)\u001b[49m\n",
      "Cell \u001b[0;32mIn[13], line 7\u001b[0m, in \u001b[0;36mvalidate\u001b[0;34m(age)\u001b[0m\n\u001b[1;32m      5\u001b[0m \u001b[38;5;28;01mdef\u001b[39;00m\u001b[38;5;250m \u001b[39m\u001b[38;5;21mvalidate\u001b[39m(age):\n\u001b[1;32m      6\u001b[0m     \u001b[38;5;28;01mif\u001b[39;00m age\u001b[38;5;241m<\u001b[39m\u001b[38;5;241m0\u001b[39m \u001b[38;5;129;01mor\u001b[39;00m age\u001b[38;5;241m>\u001b[39m\u001b[38;5;241m120\u001b[39m:\n\u001b[0;32m----> 7\u001b[0m         \u001b[38;5;28;01mraise\u001b[39;00m \u001b[38;5;167;01mValueError\u001b[39;00m(\u001b[38;5;124m'\u001b[39m\u001b[38;5;124mage invalid\u001b[39m\u001b[38;5;124m'\u001b[39m)\n\u001b[1;32m      8\u001b[0m     \u001b[38;5;28mprint\u001b[39m(\u001b[38;5;124m'\u001b[39m\u001b[38;5;124mage is valid\u001b[39m\u001b[38;5;124m'\u001b[39m)\n",
      "\u001b[0;31mValueError\u001b[0m: age invalid"
     ]
    }
   ],
   "source": [
    "# ✅ Exercise 3: Raise a Custom Exception\n",
    "# 🎯 Task:\n",
    "# Create a function validate_age(age) that raises a ValueError if age < 0 or age > 120.\n",
    "\n",
    "def validate(age):\n",
    "    if age<0 or age>120:\n",
    "        raise ValueError('age invalid')\n",
    "    print('age is valid')\n",
    "\n",
    "validate(-1)"
   ]
  }
 ],
 "metadata": {
  "kernelspec": {
   "display_name": "cpii",
   "language": "python",
   "name": "python3"
  },
  "language_info": {
   "codemirror_mode": {
    "name": "ipython",
    "version": 3
   },
   "file_extension": ".py",
   "mimetype": "text/x-python",
   "name": "python",
   "nbconvert_exporter": "python",
   "pygments_lexer": "ipython3",
   "version": "3.10.16"
  }
 },
 "nbformat": 4,
 "nbformat_minor": 2
}
