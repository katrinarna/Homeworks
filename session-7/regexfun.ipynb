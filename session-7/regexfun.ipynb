{
 "cells": [
  {
   "cell_type": "code",
   "execution_count": 1,
   "metadata": {},
   "outputs": [],
   "source": [
    "import re"
   ]
  },
  {
   "cell_type": "code",
   "execution_count": 3,
   "metadata": {},
   "outputs": [
    {
     "name": "stdout",
     "output_type": "stream",
     "text": [
      "True\n",
      "True\n",
      "False\n",
      "True\n"
     ]
    }
   ],
   "source": [
    "print(\"cat\" in \"The cat is black\")\n",
    "print(\"cat\" in \"There is a catch\")\n",
    "print(\"cat\" in \"There is nothing here\")\n",
    "print(\"cat\" in \"1234cat4321cat\")"
   ]
  },
  {
   "cell_type": "code",
   "execution_count": 7,
   "metadata": {},
   "outputs": [
    {
     "name": "stdout",
     "output_type": "stream",
     "text": [
      "True\n",
      "True\n",
      "False\n",
      "True\n"
     ]
    }
   ],
   "source": [
    "def match_pattern(string, pattern):\n",
    "    return bool(re.search(pattern, string))\n",
    "\n",
    "pattern =r\"cat\"\n",
    "\n",
    "print(match_pattern(\"The cat is black\", pattern))      \n",
    "print(match_pattern(\"There is a catch\", pattern)) \n",
    "print(match_pattern(\"There is nothing here\", pattern))\n",
    "print(match_pattern(\"1234cat4321cat\", pattern))  "
   ]
  },
  {
   "cell_type": "code",
   "execution_count": 9,
   "metadata": {},
   "outputs": [
    {
     "name": "stdout",
     "output_type": "stream",
     "text": [
      "Four letter words: ['over', 'lazy']\n"
     ]
    }
   ],
   "source": [
    "text= \"The quick brown fox jumps over the lazy dog\"\n",
    "matches = re.findall(r\"\\b\\w{4}\\b\", text) \n",
    "print(f\"Four letter words: {matches}\")"
   ]
  },
  {
   "cell_type": "code",
   "execution_count": 12,
   "metadata": {},
   "outputs": [
    {
     "name": "stdout",
     "output_type": "stream",
     "text": [
      "['140', '225']\n"
     ]
    }
   ],
   "source": [
    "text = '140 mph (225 km/h)'\n",
    "pattern = r'\\b\\d[\\.\\d]*\\d\\b'\n",
    "matches = re.findall(pattern, text)\n",
    "print(matches)"
   ]
  },
  {
   "cell_type": "code",
   "execution_count": 11,
   "metadata": {},
   "outputs": [
    {
     "name": "stdout",
     "output_type": "stream",
     "text": [
      "['225']\n"
     ]
    }
   ],
   "source": [
    "pattern = r\"\\((\\d[\\d.]*) km/h\\)\"\n",
    "text = '140 mph (225 km/h)'\n",
    "matches = re.findall(pattern, text)\n",
    "print(matches)"
   ]
  },
  {
   "cell_type": "code",
   "execution_count": 14,
   "metadata": {},
   "outputs": [
    {
     "name": "stdout",
     "output_type": "stream",
     "text": [
      "[225.0, 2.0, 32.0, 375.17]\n"
     ]
    }
   ],
   "source": [
    "def extract_kmh_numbers(strings):\n",
    "    results = []\n",
    "    pattern = r\"\\(([\\d.]+) km/h\\)\" \n",
    "    for s in strings:\n",
    "        match = re.search(pattern, s)\n",
    "        if match:\n",
    "            number_str = match.group(1)\n",
    "            results.append(float(number_str)) \n",
    "    return results\n",
    "\n",
    "test_strings = [\n",
    "    \"140 mph (225 km/h)\",\n",
    "    \"1.24 mph (2 km/h)\",\n",
    "    \"20 mph (32 km/h)\",\n",
    "    \"233.00 mph (375.17 km/h)\"\n",
    "]\n",
    "\n",
    "print(extract_kmh_numbers(test_strings))\n"
   ]
  },
  {
   "cell_type": "code",
   "execution_count": 15,
   "metadata": {},
   "outputs": [
    {
     "name": "stdout",
     "output_type": "stream",
     "text": [
      "[225.0, 2.0, 32.0, 375.17]\n"
     ]
    }
   ],
   "source": [
    "text = \"\"\"140 mph (225 km/h)\n",
    "1.24 mph (2 km/h)\n",
    "20 mph (32 km/h)\n",
    "233.00 mph (375.17 km/h)\"\"\"\n",
    "\n",
    "numbers = [float(num) for num in re.findall(r\"\\(([\\d.]+) km/h\\)\", text)]\n",
    "\n",
    "print(numbers)\n"
   ]
  },
  {
   "cell_type": "code",
   "execution_count": 22,
   "metadata": {},
   "outputs": [
    {
     "name": "stdout",
     "output_type": "stream",
     "text": [
      "The quick brown dog jumps over the lazy dog.\n",
      "The dog is back\n",
      "There is nodog here\n"
     ]
    }
   ],
   "source": [
    "text1='The quick brown fox jumps over the lazy dog.'\n",
    "text2='The cat is back'\n",
    "text3='There is nothing here'\n",
    "\n",
    "new_text = re.sub(r'fox', 'dog', text1)\n",
    "print(new_text)\n",
    "\n",
    "new_text2 = re.sub(r'cat', 'dog', text2)\n",
    "print(new_text2)\n",
    "\n",
    "new_text3 = re.sub(r'thing', 'dog', text3)\n",
    "print(new_text3)"
   ]
  }
 ],
 "metadata": {
  "kernelspec": {
   "display_name": "cpii",
   "language": "python",
   "name": "python3"
  },
  "language_info": {
   "codemirror_mode": {
    "name": "ipython",
    "version": 3
   },
   "file_extension": ".py",
   "mimetype": "text/x-python",
   "name": "python",
   "nbconvert_exporter": "python",
   "pygments_lexer": "ipython3",
   "version": "3.10.16"
  }
 },
 "nbformat": 4,
 "nbformat_minor": 2
}
